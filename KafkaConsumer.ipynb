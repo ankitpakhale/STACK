{
 "cells": [
  {
   "cell_type": "markdown",
   "id": "175a3120",
   "metadata": {},
   "source": [
    "### Import All Libraries\n"
   ]
  },
  {
   "cell_type": "code",
   "execution_count": null,
   "id": "6cf63a8c-213a-4976-83ff-02d00eba2af3",
   "metadata": {},
   "outputs": [],
   "source": [
    "from kafka import KafkaConsumer\n",
    "import json\n",
    "from s3fs import S3FileSystem\n",
    "from dotenv import load_dotenv\n",
    "import os"
   ]
  },
  {
   "cell_type": "markdown",
   "id": "412acd7e-bfab-4160-8ed6-091f1d58160d",
   "metadata": {},
   "source": [
    "### take environment variables from .env"
   ]
  },
  {
   "cell_type": "code",
   "execution_count": null,
   "id": "43abab1e-0573-48d4-9863-a4d27f19b12a",
   "metadata": {},
   "outputs": [],
   "source": [
    "load_dotenv()"
   ]
  },
  {
   "cell_type": "markdown",
   "id": "c0413af4-2d71-4a79-80ac-8774ff8494cc",
   "metadata": {},
   "source": [
    "### environment variables"
   ]
  },
  {
   "cell_type": "code",
   "execution_count": null,
   "id": "7c45defe-70c5-4c2d-8df8-14650c2654f2",
   "metadata": {},
   "outputs": [],
   "source": [
    "S3_BUCKET_NAME = os.getenv('S3_BUCKET_NAME')"
   ]
  },
  {
   "cell_type": "markdown",
   "id": "5a3754b1",
   "metadata": {},
   "source": [
    "### Create Kafka Consumer"
   ]
  },
  {
   "cell_type": "code",
   "execution_count": null,
   "id": "f64752d0-71ab-4273-8371-2429b3b0fd37",
   "metadata": {},
   "outputs": [],
   "source": [
    "consumer = KafkaConsumer('demo_testing2', bootstrap_servers=['localhost:9092'], \n",
    "                         value_deserializer = lambda x: json.loads(x))"
   ]
  },
  {
   "cell_type": "markdown",
   "id": "88520df0",
   "metadata": {},
   "source": [
    "### Create S3 bucket object\n"
   ]
  },
  {
   "cell_type": "code",
   "execution_count": null,
   "id": "24b3c714-f155-4f29-bc65-e3ae2bcc78e5",
   "metadata": {},
   "outputs": [],
   "source": [
    "s3 = S3FileSystem()"
   ]
  },
  {
   "cell_type": "markdown",
   "id": "32cf506e",
   "metadata": {},
   "source": [
    "### Get producer's data and save it in S3 bucket\n"
   ]
  },
  {
   "cell_type": "code",
   "execution_count": null,
   "id": "3626fdec-8e68-448f-b3fa-f0239e133781",
   "metadata": {},
   "outputs": [],
   "source": [
    "for count, i in enumerate(consumer):\n",
    "    file_path = f\"{S3_BUCKET_NAME}/stock_market_{count}.json\"\n",
    "    with s3.open(file_path, 'w') as file:\n",
    "        json.dump(i.value, file)"
   ]
  }
 ],
 "metadata": {
  "kernelspec": {
   "display_name": "Python 3 (ipykernel)",
   "language": "python",
   "name": "python3"
  },
  "language_info": {
   "codemirror_mode": {
    "name": "ipython",
    "version": 3
   },
   "file_extension": ".py",
   "mimetype": "text/x-python",
   "name": "python",
   "nbconvert_exporter": "python",
   "pygments_lexer": "ipython3",
   "version": "3.10.12"
  }
 },
 "nbformat": 4,
 "nbformat_minor": 5
}
