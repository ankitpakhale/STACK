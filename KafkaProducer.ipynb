{
 "cells": [
  {
   "cell_type": "markdown",
   "id": "9b8ed1f5",
   "metadata": {},
   "source": [
    "### Import All Libraries\n"
   ]
  },
  {
   "cell_type": "code",
   "execution_count": null,
   "id": "92c81177",
   "metadata": {},
   "outputs": [],
   "source": [
    "import pandas as pd\n",
    "from kafka import KafkaProducer\n",
    "from time import sleep\n",
    "import json"
   ]
  },
  {
   "cell_type": "markdown",
   "id": "4142b17f-614f-4a8e-893e-a26d29bd9327",
   "metadata": {},
   "source": [
    "### Constant Data"
   ]
  },
  {
   "cell_type": "code",
   "execution_count": null,
   "id": "c8b14d99-cca9-4ce2-8fa1-59bada8cb7f8",
   "metadata": {},
   "outputs": [],
   "source": [
    "TOPIC_NAME = \"demo_testing2\""
   ]
  },
  {
   "cell_type": "markdown",
   "id": "39d815b1",
   "metadata": {},
   "source": [
    "### Create Kafka Producer"
   ]
  },
  {
   "cell_type": "code",
   "execution_count": null,
   "id": "7d911042-3e06-411c-8b30-a0131da9eb3b",
   "metadata": {
    "scrolled": true
   },
   "outputs": [],
   "source": [
    "producer = KafkaProducer(bootstrap_servers=['localhost:9092'], \n",
    "                         value_serializer = lambda x: json.dumps(x).encode('utf-8'))"
   ]
  },
  {
   "cell_type": "markdown",
   "id": "bd9fed7f",
   "metadata": {},
   "source": [
    "### Read Stock Market Data\n"
   ]
  },
  {
   "cell_type": "code",
   "execution_count": null,
   "id": "ab5717b7-63c0-4059-9f7b-1cd19d980474",
   "metadata": {},
   "outputs": [],
   "source": [
    "df = pd.read_csv('data/indexProcessed.csv')"
   ]
  },
  {
   "cell_type": "markdown",
   "id": "8542fea6",
   "metadata": {},
   "source": [
    "### Preview Stock Market Data\n"
   ]
  },
  {
   "cell_type": "code",
   "execution_count": null,
   "id": "0478ffef-c278-47e0-bb76-a6b07251494c",
   "metadata": {},
   "outputs": [],
   "source": [
    "df.head()"
   ]
  },
  {
   "cell_type": "markdown",
   "id": "aed44dc2",
   "metadata": {},
   "source": [
    "### Send & print random data"
   ]
  },
  {
   "cell_type": "code",
   "execution_count": null,
   "id": "e91d9a82-62bc-4792-bd79-a0205e0ac96c",
   "metadata": {},
   "outputs": [],
   "source": [
    "while True:\n",
    "    stock_data = df.sample(1).to_dict(orient='records')[0]\n",
    "    producer.send(TOPIC_NAME, value=stock_data)\n",
    "    print(stock_data)\n",
    "    sleep(1)"
   ]
  },
  {
   "cell_type": "markdown",
   "id": "d61ab195",
   "metadata": {},
   "source": [
    "### Flush producer memory\n"
   ]
  },
  {
   "cell_type": "code",
   "execution_count": null,
   "id": "0ba5542c-b4d0-4fd5-82f7-dfd037b97750",
   "metadata": {},
   "outputs": [],
   "source": [
    "producer.flush()"
   ]
  }
 ],
 "metadata": {
  "kernelspec": {
   "display_name": "Python 3 (ipykernel)",
   "language": "python",
   "name": "python3"
  },
  "language_info": {
   "codemirror_mode": {
    "name": "ipython",
    "version": 3
   },
   "file_extension": ".py",
   "mimetype": "text/x-python",
   "name": "python",
   "nbconvert_exporter": "python",
   "pygments_lexer": "ipython3",
   "version": "3.10.12"
  }
 },
 "nbformat": 4,
 "nbformat_minor": 5
}
